{
 "cells": [
  {
   "cell_type": "markdown",
   "metadata": {},
   "source": [
    "# Dominance ordering of partitions\n",
    "For two partitions $\\lambda, \\mu \\in Par(N)$, $\\lambda$ dominates $\\mu$ iff:\n",
    "\n",
    "$$\n",
    "\\forall i, \\sum_i \\lambda_i < \\sum_i \\mu_i\n",
    "$$"
   ]
  },
  {
   "cell_type": "code",
   "execution_count": 20,
   "metadata": {},
   "outputs": [],
   "source": [
    "l = Partition([3, 2, 1]); m = Partition([4, 1, 1])"
   ]
  },
  {
   "cell_type": "code",
   "execution_count": 12,
   "metadata": {},
   "outputs": [
    {
     "name": "stdout",
     "output_type": "stream",
     "text": [
      "m |> l ?= True\n",
      "l <| m ?= False\n",
      "***\n",
      "**\n",
      "*\n",
      "****\n",
      "*\n",
      "*\n"
     ]
    }
   ],
   "source": [
    "print(\"m |> l ?= %s\" % (m.dominates(l), ))\n",
    "print(\"l <| m ?= %s\" % (l.dominates(m), ))\n",
    "l.pp(); m.pp()"
   ]
  },
  {
   "cell_type": "markdown",
   "metadata": {},
   "source": [
    "Bumping sequence cannot ask us to bump out values `>=` ourselves. It must be `>` ourselves. Otherwise, we will fail to produce a SSYT on the question:\n",
    "\n",
    "- compute `[1] <- 1`.\n",
    "\n",
    "We will have to bump `1` out, giving us:\n",
    "\n",
    "```\n",
    "[1]   1\n",
    "```\n",
    "\n",
    "which will insert as:\n",
    "\n",
    "```\n",
    "[1]\n",
    "[1]\n",
    "```\n",
    "\n",
    "which is not column strict. So we should only bump out values that are `>`, NOT `>=`."
   ]
  },
  {
   "cell_type": "code",
   "execution_count": null,
   "metadata": {},
   "outputs": [],
   "source": []
  },
  {
   "cell_type": "code",
   "execution_count": null,
   "metadata": {},
   "outputs": [],
   "source": []
  }
 ],
 "metadata": {
  "kernelspec": {
   "display_name": "SageMath 9.3.beta6",
   "language": "sage",
   "name": "sagemath"
  },
  "language_info": {
   "codemirror_mode": {
    "name": "ipython",
    "version": 3
   },
   "file_extension": ".py",
   "mimetype": "text/x-python",
   "name": "python",
   "nbconvert_exporter": "python",
   "pygments_lexer": "ipython3",
   "version": "3.6.9"
  }
 },
 "nbformat": 4,
 "nbformat_minor": 4
}
